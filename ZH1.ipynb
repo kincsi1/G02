{
    "metadata": {
        "kernelspec": {
            "name": "SQL",
            "display_name": "SQL",
            "language": "sql"
        },
        "language_info": {
            "name": "sql",
            "version": ""
        }
    },
    "nbformat_minor": 2,
    "nbformat": 4,
    "cells": [
        {
            "cell_type": "markdown",
            "source": [
                "Listázzuk azon vendégek nevét és email-címét, akik az 1990-es év második felében születtek! \n",
                "\n",
                "a. Rendezzük a listát a születés hónapja szerint növekvő sorrendbe!"
            ],
            "metadata": {
                "azdata_cell_guid": "dfc1f9c2-16cc-4cfd-9c51-f720cee4b397"
            },
            "attachments": {}
        },
        {
            "cell_type": "code",
            "source": [
                "SELECT NEV, EMAIL, SZUL_DAT\r\n",
                "FROM Vendeg\r\n",
                "WHERE LEFT(SZUL_DAT, 4)= 1990 AND RIGHT(LEFT(SZUL_DAT,7),2) >05\r\n",
                "ORDER BY SZUL_DAT ASC\r\n",
                "      "
            ],
            "metadata": {
                "azdata_cell_guid": "ee3db03b-3f03-459e-8bd8-6ca8e9643bb1",
                "language": "sql"
            },
            "outputs": [
                {
                    "output_type": "display_data",
                    "data": {
                        "text/html": "(5 rows affected)"
                    },
                    "metadata": {}
                },
                {
                    "output_type": "display_data",
                    "data": {
                        "text/html": "Total execution time: 00:00:00.007"
                    },
                    "metadata": {}
                },
                {
                    "output_type": "execute_result",
                    "metadata": {},
                    "execution_count": 6,
                    "data": {
                        "application/vnd.dataresource+json": {
                            "schema": {
                                "fields": [
                                    {
                                        "name": "NEV"
                                    },
                                    {
                                        "name": "EMAIL"
                                    },
                                    {
                                        "name": "SZUL_DAT"
                                    }
                                ]
                            },
                            "data": [
                                {
                                    "NEV": "Ötvös Árpád",
                                    "EMAIL": "árpád.ötvös@mail.hu",
                                    "SZUL_DAT": "1990-06-08"
                                },
                                {
                                    "NEV": "Bodor Szabolcs",
                                    "EMAIL": "szabolcs.bodor@mail.hu",
                                    "SZUL_DAT": "1990-07-16"
                                },
                                {
                                    "NEV": "Bosnyák Ilona",
                                    "EMAIL": "ilona3@gmail.com",
                                    "SZUL_DAT": "1990-08-06"
                                },
                                {
                                    "NEV": "Szabó Julianna",
                                    "EMAIL": "julianna4@gmail.com",
                                    "SZUL_DAT": "1990-09-29"
                                },
                                {
                                    "NEV": "Berta Dávid",
                                    "EMAIL": "david4@gmail.com",
                                    "SZUL_DAT": "1990-10-08"
                                }
                            ]
                        },
                        "text/html": [
                            "<table>",
                            "<tr><th>NEV</th><th>EMAIL</th><th>SZUL_DAT</th></tr>",
                            "<tr><td>Ötvös Árpád</td><td>árpád.ötvös@mail.hu</td><td>1990-06-08</td></tr>",
                            "<tr><td>Bodor Szabolcs</td><td>szabolcs.bodor@mail.hu</td><td>1990-07-16</td></tr>",
                            "<tr><td>Bosnyák Ilona</td><td>ilona3@gmail.com</td><td>1990-08-06</td></tr>",
                            "<tr><td>Szabó Julianna</td><td>julianna4@gmail.com</td><td>1990-09-29</td></tr>",
                            "<tr><td>Berta Dávid</td><td>david4@gmail.com</td><td>1990-10-08</td></tr>",
                            "</table>"
                        ]
                    }
                }
            ],
            "execution_count": 6
        },
        {
            "cell_type": "markdown",
            "source": [
                "Egészítse ki a megkezdett lekérdezést, amely megjeleníti, hogy hány klímás szobája van az egyes szálláshelyeknek! \n",
                "\n",
                "a. A listában a szálláshely azonosítója mellett jelenjen meg a szálláshely neve és a klímás szobák száma!"
            ],
            "metadata": {
                "azdata_cell_guid": "6bff66aa-c52b-4c63-9c4c-8fd4ead6b8c7"
            },
            "attachments": {}
        },
        {
            "cell_type": "code",
            "source": [
                "SELECT szh.SZALLAS_ID, szh.SZALLAS_NEV, COUNT(*)\r\n",
                " \r\n",
                "\r\n",
                "FROM Szallashely szh JOIN Szoba sz ON szh.SZALLAS_ID = sz.SZALLAS_FK\r\n",
                "\r\n",
                "WHERE sz.KLIMAS= 1\r\n",
                "\r\n",
                "GROUP BY szh.SZALLAS_ID\r\n",
                ""
            ],
            "metadata": {
                "azdata_cell_guid": "dc7c1556-11cf-4ed3-ad25-21261ed1f213",
                "language": "sql"
            },
            "outputs": [
                {
                    "output_type": "error",
                    "evalue": "Msg 8120, Level 16, State 1, Line 1\r\nColumn 'Szallashely.SZALLAS_NEV' is invalid in the select list because it is not contained in either an aggregate function or the GROUP BY clause.",
                    "ename": "",
                    "traceback": []
                },
                {
                    "output_type": "display_data",
                    "data": {
                        "text/html": "Total execution time: 00:00:00.002"
                    },
                    "metadata": {}
                }
            ],
            "execution_count": 11
        },
        {
            "cell_type": "markdown",
            "source": [
                "Készítsen lekérdezést, amely az ügyfeleket születési idejük alapján kategóriákba sorolja (1985-ben vagy utána születettek: fiatal, 1970 előtt születettek: idős, a többiek: középkorú), majd megjeleníti, hogy melyik kategóriában hány foglalás történt!\n",
                "\n",
                "a. Csak a kategória neve és a foglalásszám jelenjen meg\n",
                "\n",
                "b. A számolás során csak azokat a foglalásokat vegyük figyelembe, amelyek legalább 2 főre történtek!"
            ],
            "metadata": {
                "azdata_cell_guid": "4fcb94ad-30e7-48af-a60c-247b0349f373"
            },
            "attachments": {}
        },
        {
            "cell_type": "code",
            "source": [
                "SELECT COUNT(*),\r\n",
                "    CASE WHEN LEFT(SZUL_DAT, 4)> 1985 THEN 'FIATAL'\r\n",
                "         WHEN LEFT(SZUL_DAT, 4) BETWEEN 1985 AND 1970 THEN 'KÖZÉPKORÚ'\r\n",
                "         ELSE 'IDŐS'\r\n",
                "    END AS 'KOROK' FROM Vendeg, Foglalas\r\n",
                "    GROUP BY Foglalas.UGYFEL_FK\r\n",
                "\r\n",
                ""
            ],
            "metadata": {
                "azdata_cell_guid": "f760d1ec-0123-4885-b2a7-be95057a664c",
                "language": "sql"
            },
            "outputs": [
                {
                    "output_type": "error",
                    "evalue": "Msg 8120, Level 16, State 1, Line 2\r\nColumn 'Vendeg.SZUL_DAT' is invalid in the select list because it is not contained in either an aggregate function or the GROUP BY clause.",
                    "ename": "",
                    "traceback": []
                },
                {
                    "output_type": "error",
                    "evalue": "Msg 8120, Level 16, State 1, Line 3\r\nColumn 'Vendeg.SZUL_DAT' is invalid in the select list because it is not contained in either an aggregate function or the GROUP BY clause.",
                    "ename": "",
                    "traceback": []
                },
                {
                    "output_type": "error",
                    "evalue": "Msg 8120, Level 16, State 1, Line 3\r\nColumn 'Vendeg.SZUL_DAT' is invalid in the select list because it is not contained in either an aggregate function or the GROUP BY clause.",
                    "ename": "",
                    "traceback": []
                },
                {
                    "output_type": "display_data",
                    "data": {
                        "text/html": "Total execution time: 00:00:00.003"
                    },
                    "metadata": {}
                }
            ],
            "execution_count": 23
        }
    ]
}