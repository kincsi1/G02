{
    "metadata": {
        "kernelspec": {
            "name": "SQL",
            "display_name": "SQL",
            "language": "sql"
        },
        "language_info": {
            "name": "sql",
            "version": ""
        }
    },
    "nbformat_minor": 2,
    "nbformat": 4,
    "cells": [
        {
            "cell_type": "markdown",
            "source": [
                "1"
            ],
            "metadata": {
                "azdata_cell_guid": "121fec84-404d-456f-b42f-e214869b2e65"
            }
        }
    ]
}