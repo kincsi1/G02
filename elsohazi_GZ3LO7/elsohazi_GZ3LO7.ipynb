{
    "metadata": {
        "kernelspec": {
            "name": "SQL",
            "display_name": "SQL",
            "language": "sql"
        },
        "language_info": {
            "name": "sql",
            "version": ""
        }
    },
    "nbformat_minor": 2,
    "nbformat": 4,
    "cells": [
        {
            "cell_type": "code",
            "source": [
                "SELECT MIN(nettoar) AS 'value_min', \r\n",
                "       MAX(nettoar) AS 'value_max', \r\n",
                "       AVG(nettoar) AS 'value_avg', \r\n",
                "       STDEV(nettoar) AS 'value_stddev', \r\n",
                "       VAR(nettoar) AS 'value_var'\r\n",
                "FROM dvd\r\n",
                "WHERE nettoar IS NOT NULL"
            ],
            "metadata": {
                "azdata_cell_guid": "58edaa44-25d2-4961-a4f2-1f713bc3c7c7",
                "language": "sql"
            },
            "outputs": [
                {
                    "output_type": "display_data",
                    "data": {
                        "text/html": "(1 row affected)"
                    },
                    "metadata": {}
                },
                {
                    "output_type": "display_data",
                    "data": {
                        "text/html": "Total execution time: 00:00:00.219"
                    },
                    "metadata": {}
                },
                {
                    "output_type": "execute_result",
                    "metadata": {},
                    "execution_count": 1,
                    "data": {
                        "application/vnd.dataresource+json": {
                            "schema": {
                                "fields": [
                                    {
                                        "name": "value_min"
                                    },
                                    {
                                        "name": "value_max"
                                    },
                                    {
                                        "name": "value_avg"
                                    },
                                    {
                                        "name": "value_stddev"
                                    },
                                    {
                                        "name": "value_var"
                                    }
                                ]
                            },
                            "data": [
                                {
                                    "value_min": "3102",
                                    "value_max": "6098",
                                    "value_avg": "4682,336477987421",
                                    "value_stddev": "871,86613556767",
                                    "value_var": "760150,5583497026"
                                }
                            ]
                        },
                        "text/html": [
                            "<table>",
                            "<tr><th>value_min</th><th>value_max</th><th>value_avg</th><th>value_stddev</th><th>value_var</th></tr>",
                            "<tr><td>3102</td><td>6098</td><td>4682,336477987421</td><td>871,86613556767</td><td>760150,5583497026</td></tr>",
                            "</table>"
                        ]
                    }
                }
            ],
            "execution_count": 1
        },
        {
            "cell_type": "code",
            "source": [
                "SELECT MIN(LEN(cim)) AS 'string_length_min', \r\n",
                "       MAX(LEN(cim)) AS 'string_length_max', \r\n",
                "       AVG(LEN(cim)) AS 'string_length_avg', \r\n",
                "       STDEV(LEN(cim)) AS 'string_length_stddev', \r\n",
                "       VAR(LEN(cim)) AS 'string_length_var'\r\n",
                "FROM dvd\r\n",
                "WHERE cim IS NOT NULL\r\n",
                "AND LEN(cim) > 0"
            ],
            "metadata": {
                "azdata_cell_guid": "554ecd23-3815-4f90-9758-b03e3d57bebc",
                "language": "sql"
            },
            "outputs": [
                {
                    "output_type": "display_data",
                    "data": {
                        "text/html": "(1 row affected)"
                    },
                    "metadata": {}
                },
                {
                    "output_type": "display_data",
                    "data": {
                        "text/html": "Total execution time: 00:00:00.040"
                    },
                    "metadata": {}
                },
                {
                    "output_type": "execute_result",
                    "metadata": {},
                    "execution_count": 3,
                    "data": {
                        "application/vnd.dataresource+json": {
                            "schema": {
                                "fields": [
                                    {
                                        "name": "string_length_min"
                                    },
                                    {
                                        "name": "string_length_max"
                                    },
                                    {
                                        "name": "string_length_avg"
                                    },
                                    {
                                        "name": "string_length_stddev"
                                    },
                                    {
                                        "name": "string_length_var"
                                    }
                                ]
                            },
                            "data": [
                                {
                                    "string_length_min": "5",
                                    "string_length_max": "63",
                                    "string_length_avg": "26",
                                    "string_length_stddev": "11,473970479414376",
                                    "string_length_var": "131,65199856247258"
                                }
                            ]
                        },
                        "text/html": [
                            "<table>",
                            "<tr><th>string_length_min</th><th>string_length_max</th><th>string_length_avg</th><th>string_length_stddev</th><th>string_length_var</th></tr>",
                            "<tr><td>5</td><td>63</td><td>26</td><td>11,473970479414376</td><td>131,65199856247258</td></tr>",
                            "</table>"
                        ]
                    }
                }
            ],
            "execution_count": 3
        },
        {
            "cell_type": "code",
            "source": [
                "SELECT TOP 10 cim AS 'string', \r\n",
                "        LEN(cim) AS 'string_length'\r\n",
                "FROM dvd\r\n",
                "GROUP BY cim\r\n",
                "ORDER BY 2 DESC"
            ],
            "metadata": {
                "azdata_cell_guid": "4aed492e-ef46-4567-ab89-48e778f348dc",
                "language": "sql",
                "tags": []
            },
            "outputs": [
                {
                    "output_type": "display_data",
                    "data": {
                        "text/html": "(10 rows affected)"
                    },
                    "metadata": {}
                },
                {
                    "output_type": "display_data",
                    "data": {
                        "text/html": "Total execution time: 00:00:00.031"
                    },
                    "metadata": {}
                },
                {
                    "output_type": "execute_result",
                    "metadata": {},
                    "execution_count": 4,
                    "data": {
                        "application/vnd.dataresource+json": {
                            "schema": {
                                "fields": [
                                    {
                                        "name": "string"
                                    },
                                    {
                                        "name": "string_length"
                                    }
                                ]
                            },
                            "data": [
                                {
                                    "string": "Dicső napok és hétköznapok 1848 - Digitális forrásgyűjtemény 1.",
                                    "string_length": "63"
                                },
                                {
                                    "string": "Kétfejű sas: A Habsburg-uralom Magyarországon (1699-1790)",
                                    "string_length": "57"
                                },
                                {
                                    "string": "Multimédiás Menedzsment Könyvtár 1. - Változásmenedzsment",
                                    "string_length": "57"
                                },
                                {
                                    "string": "Madárdalos kirándulások - Madártani oktató CD-ROM (1999)",
                                    "string_length": "56"
                                },
                                {
                                    "string": "Matematika felkészítő az érettségi és felvételi vizsgára",
                                    "string_length": "56"
                                },
                                {
                                    "string": "Irodalom  felkészítő az érettségi és felvételi vizsgára",
                                    "string_length": "55"
                                },
                                {
                                    "string": "Kettős kötődés: Az Osztrák-Magyar Monarchia (1867-1918)",
                                    "string_length": "55"
                                },
                                {
                                    "string": "Az Osztrák-Magyar Monarchia írásban és képekben (2001)",
                                    "string_length": "54"
                                },
                                {
                                    "string": "Half-Life Generation: Game of the Year Edition (2002)",
                                    "string_length": "53"
                                },
                                {
                                    "string": "Az Országos Széchényi Könyvtár corvinái, 2002 (2002)",
                                    "string_length": "52"
                                }
                            ]
                        },
                        "text/html": [
                            "<table>",
                            "<tr><th>string</th><th>string_length</th></tr>",
                            "<tr><td>Dicső napok és hétköznapok 1848 - Digitális forrásgyűjtemény 1.</td><td>63</td></tr>",
                            "<tr><td>Kétfejű sas: A Habsburg-uralom Magyarországon (1699-1790)</td><td>57</td></tr>",
                            "<tr><td>Multimédiás Menedzsment Könyvtár 1. - Változásmenedzsment</td><td>57</td></tr>",
                            "<tr><td>Madárdalos kirándulások - Madártani oktató CD-ROM (1999)</td><td>56</td></tr>",
                            "<tr><td>Matematika felkészítő az érettségi és felvételi vizsgára</td><td>56</td></tr>",
                            "<tr><td>Irodalom  felkészítő az érettségi és felvételi vizsgára</td><td>55</td></tr>",
                            "<tr><td>Kettős kötődés: Az Osztrák-Magyar Monarchia (1867-1918)</td><td>55</td></tr>",
                            "<tr><td>Az Osztrák-Magyar Monarchia írásban és képekben (2001)</td><td>54</td></tr>",
                            "<tr><td>Half-Life Generation: Game of the Year Edition (2002)</td><td>53</td></tr>",
                            "<tr><td>Az Országos Széchényi Könyvtár corvinái, 2002 (2002)</td><td>52</td></tr>",
                            "</table>"
                        ]
                    }
                }
            ],
            "execution_count": 4
        },
        {
            "cell_type": "code",
            "source": [
                "SELECT TOP 10 cim AS 'string', \r\n",
                "        LEN(cim) AS 'string_length'\r\n",
                "FROM dvd\r\n",
                "WHERE cim IS NOT NULL\r\n",
                "GROUP BY cim\r\n",
                "ORDER BY 2 ASC\r\n",
                ""
            ],
            "metadata": {
                "azdata_cell_guid": "0fa7a02b-596c-471f-8d11-0e499b5ccf81",
                "language": "sql"
            },
            "outputs": [
                {
                    "output_type": "display_data",
                    "data": {
                        "text/html": "(10 rows affected)"
                    },
                    "metadata": {}
                },
                {
                    "output_type": "display_data",
                    "data": {
                        "text/html": "Total execution time: 00:00:00.029"
                    },
                    "metadata": {}
                },
                {
                    "output_type": "execute_result",
                    "metadata": {},
                    "execution_count": 6,
                    "data": {
                        "application/vnd.dataresource+json": {
                            "schema": {
                                "fields": [
                                    {
                                        "name": "string"
                                    },
                                    {
                                        "name": "string_length"
                                    }
                                ]
                            },
                            "data": [
                                {
                                    "string": "Buggy",
                                    "string_length": "5"
                                },
                                {
                                    "string": "GTA 2",
                                    "string_length": "5"
                                },
                                {
                                    "string": "Afrika",
                                    "string_length": "6"
                                },
                                {
                                    "string": "Diablo",
                                    "string_length": "6"
                                },
                                {
                                    "string": "Európa",
                                    "string_length": "6"
                                },
                                {
                                    "string": "Jancsó",
                                    "string_length": "6"
                                },
                                {
                                    "string": "Tarzan",
                                    "string_length": "6"
                                },
                                {
                                    "string": "NASA 1.",
                                    "string_length": "7"
                                },
                                {
                                    "string": "NASA 2.",
                                    "string_length": "7"
                                },
                                {
                                    "string": "Kutyatár",
                                    "string_length": "8"
                                }
                            ]
                        },
                        "text/html": [
                            "<table>",
                            "<tr><th>string</th><th>string_length</th></tr>",
                            "<tr><td>Buggy</td><td>5</td></tr>",
                            "<tr><td>GTA 2</td><td>5</td></tr>",
                            "<tr><td>Afrika</td><td>6</td></tr>",
                            "<tr><td>Diablo</td><td>6</td></tr>",
                            "<tr><td>Európa</td><td>6</td></tr>",
                            "<tr><td>Jancsó</td><td>6</td></tr>",
                            "<tr><td>Tarzan</td><td>6</td></tr>",
                            "<tr><td>NASA 1.</td><td>7</td></tr>",
                            "<tr><td>NASA 2.</td><td>7</td></tr>",
                            "<tr><td>Kutyatár</td><td>8</td></tr>",
                            "</table>"
                        ]
                    }
                }
            ],
            "execution_count": 6
        }
    ]
}